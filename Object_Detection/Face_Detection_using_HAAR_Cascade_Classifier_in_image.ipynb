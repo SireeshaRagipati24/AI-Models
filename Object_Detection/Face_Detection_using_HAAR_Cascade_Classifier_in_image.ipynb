{
 "cells": [
  {
   "cell_type": "markdown",
   "id": "e6e358ef-0b60-44d1-bc26-385f1dd39c20",
   "metadata": {},
   "source": [
    "# **Face Detection using HAAR Cascade Classifier in a image**"
   ]
  },
  {
   "cell_type": "markdown",
   "id": "cb1ba6ac-e2da-4cfd-ac7f-ee5ed2d53e14",
   "metadata": {},
   "source": [
    "## Overview  \n",
    "This notebook demonstrates how to **detect faces** in an image using OpenCV's **HAAR Cascade Classifier**.  \n",
    "\n",
    "---\n",
    "\n",
    "##  **What is HAAR Cascade?**\n",
    "HAAR Cascade is a pre-trained **object detection model** that uses a series of **patterns (features)** to recognize faces.  \n",
    "\n",
    "**Why use HAAR Cascade?**  \n",
    "- Fast and efficient face detection  \n",
    "- Works well for frontal faces  \n",
    "- No need for manual feature extraction  \n",
    "\n",
    "---\n",
    "\n",
    "## **Loading the HAAR Cascade Classifier**"
   ]
  },
  {
   "cell_type": "code",
   "execution_count": 13,
   "id": "e7071c84-210f-4a60-abb4-e49415f91318",
   "metadata": {},
   "outputs": [],
   "source": [
    "# We direct OpenCV's Cascade Classifier to the location of our trained XML file.\n",
    "import cv2\n",
    "face_classifier=cv2.CascadeClassifier(\"haarcascade_frontalface_default.xml\")"
   ]
  },
  {
   "cell_type": "markdown",
   "id": "e5c9a5ed-34ce-4d66-a38d-d9f917ce03c6",
   "metadata": {},
   "source": [
    "**What Happens?**\n",
    "- OpenCV loads the pre-trained XML file containing face detection rules.\n",
    "- The classifier is now ready to detect faces in images.\n",
    "  \n",
    "**Why is this step important?**\n",
    "- Without loading the classifier, OpenCV cannot detect faces.\n",
    "\n",
    "---"
   ]
  },
  {
   "cell_type": "markdown",
   "id": "cd94f41b-6d0c-4f78-ad13-11be2950810f",
   "metadata": {},
   "source": [
    "## **Loading and Preprocessing the Image**"
   ]
  },
  {
   "cell_type": "code",
   "execution_count": 14,
   "id": "20583bd0-482e-42f6-a169-940c8fc12cda",
   "metadata": {},
   "outputs": [],
   "source": [
    "# load our image to convert it to grayscale\n",
    "image=cv2.imread(\"Modi.jpg\")\n",
    "image=cv2.resize(image,(500,500))\n",
    "gray=cv2.cvtColor(image,cv2.COLOR_BGR2GRAY)"
   ]
  },
  {
   "cell_type": "markdown",
   "id": "bd329b9f-b0b1-4253-8e5b-9fbd58c4f566",
   "metadata": {},
   "source": [
    "**What Happens?**\n",
    "- Step 1: Loads the image into memory.\n",
    "- Step 2: Resizes it to 500×500 pixels.\n",
    "- Step 3: Converts the image to grayscale (HAAR Cascade works better on grayscale images).\n",
    "\n",
    "**Why convert to grayscale?**\n",
    "- Reduces complexity (removes color information).\n",
    "- Faster detection (works with one channel instead of three).\n",
    "\n",
    "---                    "
   ]
  },
  {
   "cell_type": "markdown",
   "id": "95a31221-e931-4843-a411-0b3fd2200e0e",
   "metadata": {},
   "source": [
    "## **Detecting Faces**"
   ]
  },
  {
   "cell_type": "code",
   "execution_count": 15,
   "id": "edd5ae25-8053-442b-b7c8-c80298dcdf56",
   "metadata": {},
   "outputs": [
    {
     "name": "stdout",
     "output_type": "stream",
     "text": [
      "[[205  79 217 217]]\n"
     ]
    }
   ],
   "source": [
    "# We tune the Cascade Classifier using the detectMultiScale method, where we provide the input \n",
    "#image, adjust the scale factor, and set the minimum neighbors parameter to optimize detection.\n",
    "faces=face_classifier.detectMultiScale(gray,1.05,5)\n",
    "print(faces)"
   ]
  },
  {
   "cell_type": "markdown",
   "id": "cee13989-0eb0-48f3-a833-ffa8a63a16bb",
   "metadata": {},
   "source": [
    "#### **What Happens?**\n",
    "**Face Detection Process**\n",
    "- The classifier **scans the grayscale image** to detect faces. \n",
    "- Returns a **list of detected faces**, where each face is represented as `(x, y, width, height)`.  \n",
    "- If **no face is found**, it returns an **empty list**.  \n",
    "\n",
    "\n",
    "#### **Parameters in `detectMultiScale()`**\n",
    "| **Parameter**       | **Description**  |\n",
    "|-----------------|------------------------------------------------|\n",
    "| `gray`         | Input image (grayscale) |\n",
    "| `1.05` (Scale Factor) | Reduces the image size by **5%** at each step to detect faces at different scales |\n",
    "| `5` (Min Neighbors) | Higher value = **stricter detection** (fewer false positives) |\n",
    "\n",
    "\n",
    "\n",
    "---"
   ]
  },
  {
   "cell_type": "markdown",
   "id": "48b9ef19-ec1b-4f6d-8d27-27d064625538",
   "metadata": {},
   "source": [
    "## **Handling No Face Detection**"
   ]
  },
  {
   "cell_type": "code",
   "execution_count": 16,
   "id": "633748fa-0203-443e-93a2-49a935238df5",
   "metadata": {},
   "outputs": [],
   "source": [
    "# If no face is detected, the face classifier returns an empty list, indicating that no objects matched the detection criteria in the image.\n",
    "if len(faces) == 0:\n",
    "    print(\"No faces found\")"
   ]
  },
  {
   "cell_type": "markdown",
   "id": "635c955a-0e25-4dbf-9494-1aa0b215d2a6",
   "metadata": {},
   "source": [
    "- faces is a list, len(faces) == 0 correctly checks if the list is empty.\n",
    "\n",
    "---"
   ]
  },
  {
   "cell_type": "markdown",
   "id": "43473d26-8880-43e2-9bc4-c1f98f6d4af0",
   "metadata": {},
   "source": [
    "## **Drawing Rectangles Around Faces**"
   ]
  },
  {
   "cell_type": "code",
   "execution_count": 17,
   "id": "eec59dbb-2900-4514-b0a2-4f3bd1ffb77e",
   "metadata": {},
   "outputs": [],
   "source": [
    "for (x,y,w,h) in faces:\n",
    "    cv2.rectangle(image, (x, y), (x+w, y+h), (0, 255, 100), 1)\n",
    "\n",
    "\n",
    "cv2.imshow('face detection',image)\n",
    "cv2.waitKey()          \n",
    "cv2.destroyAllWindows()"
   ]
  },
  {
   "cell_type": "markdown",
   "id": "abff4f7e-3b08-4c95-bc7c-079850d002ff",
   "metadata": {},
   "source": [
    "**What Happens?**\n",
    "- Iterates through each detected face.\n",
    "- Draws a rectangle around the face using its (x, y, width, height).\n",
    "- Uses green (0, 255, 100) with thickness 1.\n",
    "    \n",
    "**Why draw rectangles?**\n",
    "- Helps in visualizing where the face is detected.\n",
    "\n",
    "---"
   ]
  },
  {
   "cell_type": "markdown",
   "id": "5c397179-0f1e-4743-a2c1-633c46a599b2",
   "metadata": {},
   "source": [
    "## 🎯 **Final Conclusions**\n",
    "**HAAR Cascade Classifier** is a fast and efficient method for face detection.  \n",
    "- Works well for **frontal face images** but struggles with **side views and occlusions**.  \n",
    "- The **scale factor and min neighbors** parameters help fine-tune detection accuracy.  \n",
    "- Converting images to **grayscale** improves speed and accuracy.  \n",
    "- If no faces are found, the classifier returns an **empty list**.  \n",
    "\n",
    "**Limitations & Next Steps:**  \n",
    "- HAAR Cascade is not the most advanced method; deep learning-based models like **DNN Face Detector** or **MTCNN** provide better accuracy.  \n",
    "- For real-time face detection, consider applying this approach to **live webcam feeds** using OpenCV.  \n",
    "- Try **face recognition** instead of just detection for advanced applications.  \n"
   ]
  },
  {
   "cell_type": "code",
   "execution_count": null,
   "id": "1826dd71-369d-4a86-b5bd-d1e5203ea5e1",
   "metadata": {},
   "outputs": [],
   "source": []
  },
  {
   "cell_type": "markdown",
   "id": "81150ecc-ac09-46cc-a823-1fa06a9340d4",
   "metadata": {},
   "source": [
    "### **Project by : SIREESHA RAGIPATI**"
   ]
  },
  {
   "cell_type": "code",
   "execution_count": null,
   "id": "de19f797-0ea1-4d56-aa26-7dc64684f18d",
   "metadata": {},
   "outputs": [],
   "source": []
  }
 ],
 "metadata": {
  "kernelspec": {
   "display_name": "Python 3 (ipykernel)",
   "language": "python",
   "name": "python3"
  },
  "language_info": {
   "codemirror_mode": {
    "name": "ipython",
    "version": 3
   },
   "file_extension": ".py",
   "mimetype": "text/x-python",
   "name": "python",
   "nbconvert_exporter": "python",
   "pygments_lexer": "ipython3",
   "version": "3.11.7"
  }
 },
 "nbformat": 4,
 "nbformat_minor": 5
}
