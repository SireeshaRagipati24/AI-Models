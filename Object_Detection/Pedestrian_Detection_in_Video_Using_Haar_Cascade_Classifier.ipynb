{
 "cells": [
  {
   "cell_type": "markdown",
   "id": "64a1d2fa-56eb-4ffb-9a5f-13ee2dcb2ddc",
   "metadata": {},
   "source": [
    "## **Pedestrian Detection in Video Using Haar Cascade Classifier**"
   ]
  },
  {
   "cell_type": "markdown",
   "id": "408c05a5-d624-4fb8-bc36-50be14dd293c",
   "metadata": {},
   "source": [
    "- The goal of this code is to detect pedestrians in a video using a pre-trained Haar Cascade Classifier, which is a machine learning-based method for object detection."
   ]
  },
  {
   "cell_type": "markdown",
   "id": "b9240472-e0b9-49b1-b42b-4d052936d24d",
   "metadata": {},
   "source": [
    "**Import Required Libraries**"
   ]
  },
  {
   "cell_type": "code",
   "execution_count": 1,
   "id": "6557cf74-b4c3-45ac-9a4c-606187886208",
   "metadata": {},
   "outputs": [],
   "source": [
    "import cv2\n",
    "import time"
   ]
  },
  {
   "cell_type": "markdown",
   "id": "4a01af8c-87fc-4036-af75-242baca24d04",
   "metadata": {},
   "source": [
    "- cv2: This is the OpenCV library, which is a powerful tool for image and video processing. It helps in tasks like object detection, image manipulation, and video handling.\n",
    "- time: This library is used to handle any delays or time-related functions (though it's not used in this code, it may be useful for controlling processing time)."
   ]
  },
  {
   "cell_type": "markdown",
   "id": "aa89ed24-64fa-4722-814b-952708163443",
   "metadata": {},
   "source": [
    "**Load Pedestrian Classifier**"
   ]
  },
  {
   "cell_type": "code",
   "execution_count": 2,
   "id": "b5226181-86a3-439c-a614-a6ac5b5bcffc",
   "metadata": {},
   "outputs": [],
   "source": [
    "body_classifier=cv2.CascadeClassifier(\"haarcascade_fullbody.xml\")"
   ]
  },
  {
   "cell_type": "markdown",
   "id": "60cf050c-b401-4e0f-ab4b-7cde49869951",
   "metadata": {},
   "source": [
    "- cv2.CascadeClassifier(): This function loads a pre-trained Haar Cascade classifier. In this case, it's a classifier for detecting full bodies (pedestrians). Haar Cascades are a popular object detection method used in computer vision for real-time face and object detection.\n",
    "- The file \"haarcascade_fullbody.xml\" contains the classifier model, which was pre-trained to detect human bodies.\n"
   ]
  },
  {
   "cell_type": "markdown",
   "id": "3a38b0a9-0ba0-4dde-9cc5-6cc76f163134",
   "metadata": {},
   "source": [
    "**Open Video File**"
   ]
  },
  {
   "cell_type": "code",
   "execution_count": 3,
   "id": "8c75345a-9e58-4de6-99ee-bd53e3b030ea",
   "metadata": {},
   "outputs": [],
   "source": [
    "cap=cv2.VideoCapture('walking_video.avi')"
   ]
  },
  {
   "cell_type": "markdown",
   "id": "95e084df-f361-4def-94d1-c3c4dc0c4daa",
   "metadata": {},
   "source": [
    "- cv2.VideoCapture(): This function opens the video file 'walking_video.avi'.\n",
    "- It initializes the video capture, allowing you to process video frames."
   ]
  },
  {
   "cell_type": "markdown",
   "id": "e803a093-f967-40e0-80ae-8c3a15fdc8ae",
   "metadata": {},
   "source": [
    "**Start the Video Loop**"
   ]
  },
  {
   "cell_type": "code",
   "execution_count": 4,
   "id": "d92f89a8-f6f2-4ea4-8a81-f9018483ee64",
   "metadata": {},
   "outputs": [],
   "source": [
    "while cap.isOpened():\n",
    "    check,frame=cap.read()\n",
    "    gray=cv2.cvtColor(frame,cv2.COLOR_BGR2GRAY)\n",
    "    bodies=body_classifier.detectMultiScale(gray,1.2,3)\n",
    "    \n",
    "    for(x,y,w,h) in bodies:\n",
    "        cv2.rectangle(frame,(x,y),(x+w,y+h),(0,255,255),2)\n",
    "        cv2.imshow('pedestrians',frame)\n",
    "        \n",
    "    if cv2.waitKey(1) & 0xFF ==ord('q'):\n",
    "        break\n",
    "\n",
    "# release and close the window\n",
    "cap.release()\n",
    "cv2.destroyAllWindows()"
   ]
  },
  {
   "cell_type": "markdown",
   "id": "022eaeae-61b3-432d-abba-d7ec08c41999",
   "metadata": {},
   "source": [
    "#### Start Processing the Video:\n",
    "- `while cap.isOpened():`: This loop continues as long as the video is successfully opened. It allows us to read and process each frame of the video sequentially.\n",
    "\n",
    "#### Read a Frame from the Video:\n",
    "- `check, frame = cap.read()`: Here, the `read()` method is used to capture a single frame from the video. The variable `check` is a boolean indicating if the frame was read successfully, and `frame` stores the actual image data.\n",
    "\n",
    "#### Convert Frame to Grayscale:\n",
    "- `gray = cv2.cvtColor(frame, cv2.COLOR_BGR2GRAY)`: Converts the current video frame from color (BGR format) to grayscale. This step is essential because detecting objects (like pedestrians) is generally easier and faster on grayscale images compared to color images.\n",
    "\n",
    "#### Detect Pedestrians:\n",
    "- `bodies = body_classifier.detectMultiScale(gray, 1.2, 3)`: This function detects pedestrians in the grayscale image.\n",
    "  - `gray`: The grayscale frame where detection happens.\n",
    "  - `1.2`: This is the scale factor, which compensates for pedestrians being at different distances or sizes in the video. The value `1.2` means the image size is reduced by 20% at each detection scale.\n",
    "  - `3`: This is the minimum number of neighbors each candidate rectangle should have to be retained. Higher values reduce false positives but may miss some detections.\n",
    "\n",
    "#### Draw Rectangles Around Detected Pedestrians:\n",
    "- `for (x, y, w, h) in bodies:`: This loop iterates through each detected pedestrian. For each pedestrian, the classifier provides coordinates `(x, y)` for the top-left corner and `(w, h)` for the width and height of the bounding box around the pedestrian.\n",
    "- `cv2.rectangle(frame, (x, y), (x + w, y + h), (0, 255, 255), 2)`: For each detected pedestrian, a rectangle is drawn around them using the coordinates `(x, y, w, h)`. The rectangle is drawn in yellow (BGR: `(0, 255, 255)`) with a thickness of 2 pixels.\n",
    "\n",
    "#### Display the Frame with Pedestrian Detections:\n",
    "- `cv2.imshow('pedestrians', frame)`: The frame, now with rectangles drawn around the detected pedestrians, is displayed in a window named `'pedestrians'`. This window shows the video with real-time detection results.\n",
    "\n",
    "#### Exit the Video Loop:\n",
    "- `if cv2.waitKey(1) & 0xFF == ord('q'):`: This condition checks if the user presses the 'q' key. If the 'q' key is pressed, it breaks the loop, stopping the video processing.\n",
    "- `cv2.waitKey(1)`: This waits for 1 millisecond for any key press. The bitwise AND with `0xFF` ensures compatibility across different systems.\n"
   ]
  },
  {
   "cell_type": "code",
   "execution_count": null,
   "id": "8dc3d8b8-9d25-41ba-bac0-dfc37fb2d9d5",
   "metadata": {},
   "outputs": [],
   "source": []
  },
  {
   "cell_type": "markdown",
   "id": "1b9aea32-0674-4946-b3c3-60d722545e1d",
   "metadata": {},
   "source": [
    "### **Project by : SIREESHA RAGIPATI**"
   ]
  }
 ],
 "metadata": {
  "kernelspec": {
   "display_name": "Python 3 (ipykernel)",
   "language": "python",
   "name": "python3"
  },
  "language_info": {
   "codemirror_mode": {
    "name": "ipython",
    "version": 3
   },
   "file_extension": ".py",
   "mimetype": "text/x-python",
   "name": "python",
   "nbconvert_exporter": "python",
   "pygments_lexer": "ipython3",
   "version": "3.11.7"
  }
 },
 "nbformat": 4,
 "nbformat_minor": 5
}
