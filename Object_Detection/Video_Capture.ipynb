{
 "cells": [
  {
   "cell_type": "markdown",
   "id": "dc064922-6e4f-4f23-b27e-c9f32059eaac",
   "metadata": {},
   "source": [
    "# **Live Video Capture using OpenCV**\n",
    "This project captures live video from the **webcam** and displays it in **grayscale**.\n",
    "\n",
    "---\n",
    "\n",
    "### **How It Works**\n",
    "- OpenCV initializes the **webcam** using `cv2.VideoCapture(0)`.  \n",
    "-  The program **continuously reads frames** from the video feed in a loop.  \n",
    "-  Each frame is **converted to grayscale** for better processing speed.  \n",
    "-  The video feed is displayed in real-time.  \n",
    "-  Press **'q'** to **exit** the video stream.  \n",
    "\n",
    "---\n",
    "\n",
    "### **Breaking Down the Code**\n",
    "| **Code**                     | **Explanation**  |\n",
    "|------------------------------|------------------------------------------------|\n",
    "| `video=cv2.VideoCapture(0)`  | Opens the **default camera** (0 = built-in webcam) |\n",
    "| `check, frame = video.read()` | Reads the **current frame** from the video feed |\n",
    "| `gray=cv2.cvtColor(frame, cv2.COLOR_BGR2GRAY)` | Converts frame to **grayscale** |\n",
    "| `cv2.imshow('Video', gray)`  | Displays the **video stream** |\n",
    "| `cv2.waitKey(1) == ord('q')` | **Press 'q'** to exit the loop and stop the video |\n",
    "| `video.release()`            | **Releases** the webcam resource |\n",
    "| `cv2.destroyAllWindows()`    | Closes all OpenCV windows |\n",
    "\n",
    "---\n"
   ]
  },
  {
   "cell_type": "markdown",
   "id": "20ee1a1a-c71b-4228-a562-3bb8c66812b9",
   "metadata": {},
   "source": [
    "### **Step-by-Step Explanation of Webcam Video Capture**\n",
    "\n",
    "**1. Open the Webcam**)\n",
    "- `cv2.VideoCapture(0)` starts the webcam to capture video frames.\n",
    "\n",
    "**2. Start a Continuous Loop**\n",
    "- `while True:` keeps the video running until manually stopped.\n",
    "\n",
    "**3. Capture a Frame** \n",
    "- `video.read()` captures a frame from the webcam.  \n",
    "- `check` indicates if capturing was successful.  \n",
    "- `frame` stores the image data.\n",
    "\n",
    "**4. Convert the Frame to Grayscale** \n",
    "- `cv2.cvtColor(frame, cv2.COLOR_BGR2GRAY)` converts the frame to black-and-white.  \n",
    "- This reduces complexity and speeds up processing.\n",
    "\n",
    "**5. Display the Grayscale Video**  \n",
    "- `cv2.imshow('Video', gray)` opens a window to show the live grayscale video.\n",
    "\n",
    "**6. Exit Condition**\n",
    "- `cv2.waitKey(1) == ord('q')` checks if the user presses \"q\".  \n",
    "- If \"q\" is pressed, the loop breaks and stops the video.\n",
    "\n",
    "**7. Release the Webcam**\n",
    "- `video.release()` frees the webcam for other programs.\n",
    "\n",
    "**8. Close the Display Window**\n",
    "- `cv2.destroyAllWindows()` closes all OpenCV windows.\n"
   ]
  },
  {
   "cell_type": "code",
   "execution_count": 2,
   "id": "a11cefaa-2123-4d03-8c87-99dde5ada4bf",
   "metadata": {},
   "outputs": [],
   "source": [
    "import cv2\n",
    "video=cv2.VideoCapture(0) \n",
    "while True:\n",
    "    check,frame=video.read()\n",
    "    gray=cv2.cvtColor(frame,cv2.COLOR_BGR2GRAY)\n",
    "    cv2.imshow('Vide',gray)\n",
    "    if cv2.waitKey(1)==ord('q'):\n",
    "        break\n",
    "video.release()\n",
    "cv2.destroyAllWindows()"
   ]
  },
  {
   "cell_type": "markdown",
   "id": "a5231c52-24eb-4a23-ba01-338a4429acd7",
   "metadata": {},
   "source": [
    "##  **Final Conclusions**\n",
    "- **Real-time video capture** using OpenCV is simple and efficient.  \n",
    "- Converting frames to **grayscale** improves processing speed.  \n",
    "- **Pressing 'q'** ensures smooth termination of the video feed.  \n",
    "- **Releasing resources** prevents issues with the webcam after closing the program.  \n",
    "\n",
    "**Next Steps:**  \n",
    "- Apply **face detection** in real-time using HAAR Cascade or deep learning.  \n",
    "- Save video frames to a file for further processing.  \n",
    "- Experiment with **color filters** or edge detection on the video stream.  \n"
   ]
  },
  {
   "cell_type": "code",
   "execution_count": null,
   "id": "ace7ec2c-0aed-4fb1-a0a2-7bebc7d22157",
   "metadata": {},
   "outputs": [],
   "source": []
  },
  {
   "cell_type": "markdown",
   "id": "44dbc0de-560f-4195-9603-60c9478456ec",
   "metadata": {},
   "source": [
    "### **Project by : SIREESHA RAGIPATI**"
   ]
  },
  {
   "cell_type": "code",
   "execution_count": null,
   "id": "abb7cd32-86a9-4ae1-a178-ae41dd2d006e",
   "metadata": {},
   "outputs": [],
   "source": []
  },
  {
   "cell_type": "code",
   "execution_count": null,
   "id": "a5a78147-fc62-412a-8d60-969dc3c0ded5",
   "metadata": {},
   "outputs": [],
   "source": []
  },
  {
   "cell_type": "code",
   "execution_count": null,
   "id": "63680d7c-0fba-4ffc-a20e-1a439c07c14d",
   "metadata": {},
   "outputs": [],
   "source": []
  }
 ],
 "metadata": {
  "kernelspec": {
   "display_name": "Python 3 (ipykernel)",
   "language": "python",
   "name": "python3"
  },
  "language_info": {
   "codemirror_mode": {
    "name": "ipython",
    "version": 3
   },
   "file_extension": ".py",
   "mimetype": "text/x-python",
   "name": "python",
   "nbconvert_exporter": "python",
   "pygments_lexer": "ipython3",
   "version": "3.11.7"
  }
 },
 "nbformat": 4,
 "nbformat_minor": 5
}
