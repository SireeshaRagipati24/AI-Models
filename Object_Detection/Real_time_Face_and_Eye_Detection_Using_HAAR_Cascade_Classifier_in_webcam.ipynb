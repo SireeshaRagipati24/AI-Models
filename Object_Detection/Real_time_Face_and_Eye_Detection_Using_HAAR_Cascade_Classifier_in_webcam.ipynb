{
 "cells": [
  {
   "cell_type": "markdown",
   "id": "d0a91f4e-cc7d-49ee-8e96-04932ff13161",
   "metadata": {},
   "source": [
    "### **Real-Time Face and Eye Detection Using HAAR Cascade Classifier in webcam**"
   ]
  },
  {
   "cell_type": "markdown",
   "id": "8c84436a-f66a-4f47-98eb-ca308bb257aa",
   "metadata": {},
   "source": [
    "**Importing Required Libraries**"
   ]
  },
  {
   "cell_type": "code",
   "execution_count": 2,
   "id": "b0012c65-d176-4f5c-9791-427a52e3bec1",
   "metadata": {},
   "outputs": [],
   "source": [
    "import cv2"
   ]
  },
  {
   "cell_type": "markdown",
   "id": "bb2d034d-8757-47e4-923c-50159dace8b5",
   "metadata": {},
   "source": [
    "- This imports the OpenCV library (cv2), which is essential for image processing and computer vision tasks like face and eye detection."
   ]
  },
  {
   "cell_type": "markdown",
   "id": "a8c13c34-109a-4335-a85d-62360fe92d47",
   "metadata": {},
   "source": [
    "**Load Pre-trained Haar Cascade Classifiers**"
   ]
  },
  {
   "cell_type": "code",
   "execution_count": 3,
   "id": "5e2cb52d-87a0-40d4-ba1d-313c172bea27",
   "metadata": {},
   "outputs": [],
   "source": [
    "face_classifier = cv2.CascadeClassifier(\"haarcascade_frontalface_default.xml\")\n",
    "eye_classifier = cv2.CascadeClassifier(\"haarcascade_eye.xml\")"
   ]
  },
  {
   "cell_type": "markdown",
   "id": "e6ab479d-f69a-48c9-8cd1-7e0e84bc785c",
   "metadata": {},
   "source": [
    "These lines load the pre-trained Haar cascade classifiers:\n",
    "- haarcascade_frontalface_default.xml is for detecting faces.\n",
    "- haarcascade_eye.xml is for detecting eyes."
   ]
  },
  {
   "cell_type": "markdown",
   "id": "95ecf44a-9438-4347-a344-e9b5b2e4797f",
   "metadata": {},
   "source": [
    "**Define the Detection Function**"
   ]
  },
  {
   "cell_type": "code",
   "execution_count": 4,
   "id": "4f42a137-b923-4f80-be9d-dae9c606e628",
   "metadata": {},
   "outputs": [],
   "source": [
    "def detect(gray, frame):\n",
    "    faces = face_classifier.detectMultiScale(gray, 1.3, 5)\n",
    "    \n",
    "    for (x, y, w, h) in faces:\n",
    "        cv2.rectangle(frame, (x, y), (x + w, y + h), (255, 0, 0), 2)  # Blue rectangle for face\n",
    "        \n",
    "        roi_gray = gray[y:y + h, x:x + w]\n",
    "        roi_color = frame[y:y + h, x:x + w]\n",
    "        \n",
    "        eyes = eye_classifier.detectMultiScale(roi_gray)\n",
    "        for (ex, ey, ew, eh) in eyes:\n",
    "            cv2.rectangle(roi_color, (ex, ey), (ex + ew, ey + eh), (0, 255, 0), 2)  # Green rectangle for eyes\n",
    "            \n",
    "    return frame"
   ]
  },
  {
   "cell_type": "markdown",
   "id": "49f7dbaa-d59a-4d07-a812-809a1af89f5d",
   "metadata": {},
   "source": [
    "- Detects faces and eyes using the detectMultiScale() method.\n",
    "- Draws blue rectangles around detected faces and green rectangles around detected eyes."
   ]
  },
  {
   "cell_type": "markdown",
   "id": "c92162b5-f6c3-450b-8f47-0b476315ba25",
   "metadata": {},
   "source": [
    "**Start Video Capture from Webcam**"
   ]
  },
  {
   "cell_type": "code",
   "execution_count": 5,
   "id": "7a7eef48-c751-467d-8b29-999375d95f31",
   "metadata": {},
   "outputs": [],
   "source": [
    "video = cv2.VideoCapture(0)"
   ]
  },
  {
   "cell_type": "markdown",
   "id": "4d404e67-6e53-4d9a-8a85-87bcc2224838",
   "metadata": {},
   "source": [
    "- Opens the default webcam for video capture (0 is the default camera).`"
   ]
  },
  {
   "cell_type": "markdown",
   "id": "c0bbb97c-128b-44a1-8f5d-0d2190301562",
   "metadata": {},
   "source": [
    "**Start Continuous Loop to Process Each Frame**"
   ]
  },
  {
   "cell_type": "code",
   "execution_count": 6,
   "id": "7edec24d-9bcc-47ee-8d50-c0c977f56082",
   "metadata": {},
   "outputs": [],
   "source": [
    "while True:\n",
    "    check, frame = video.read()\n",
    "    gray = cv2.cvtColor(frame, cv2.COLOR_BGR2GRAY)\n",
    "    canvas = detect(gray, frame)\n",
    "    \n",
    "    cv2.imshow('Video', canvas)\n",
    "    \n",
    "    if cv2.waitKey(1) == ord('q'):  \n",
    "        break"
   ]
  },
  {
   "cell_type": "markdown",
   "id": "8421abc1-0c7a-4a37-bca7-aed146fed59e",
   "metadata": {},
   "source": [
    "- Captures frames from the webcam and converts each frame to grayscale for easier processing.\n",
    "- Calls the detect() function to detect faces and eyes and draw rectangles around them.\n",
    "- Displays the processed frame in a window titled \"Video\".\n",
    "- The loop stops when the \"q\" key is pressed."
   ]
  },
  {
   "cell_type": "markdown",
   "id": "599ad855-94f1-4ff5-96ae-568a0f7005b6",
   "metadata": {},
   "source": [
    "**Release the Webcam**"
   ]
  },
  {
   "cell_type": "code",
   "execution_count": 7,
   "id": "4e1e842c-6839-40de-8590-9ffb1b66c2f6",
   "metadata": {},
   "outputs": [],
   "source": [
    "video.release()"
   ]
  },
  {
   "cell_type": "markdown",
   "id": "726639b8-7002-472e-8096-b97a130bd601",
   "metadata": {},
   "source": [
    "- Releases the webcam after use, making it available for other programs."
   ]
  },
  {
   "cell_type": "markdown",
   "id": "36eec5d1-ac5b-41c8-b0a3-f613dc548271",
   "metadata": {},
   "source": [
    "**Close the Display Window**"
   ]
  },
  {
   "cell_type": "code",
   "execution_count": 8,
   "id": "40be2a54-0d8f-4ede-8e93-2b6f3fd55b46",
   "metadata": {},
   "outputs": [],
   "source": [
    "cv2.destroyAllWindows()"
   ]
  },
  {
   "cell_type": "markdown",
   "id": "e9e08b61-1068-46dc-8a86-998df04baa50",
   "metadata": {},
   "source": [
    "- Closes all OpenCV windows that were opened during the process."
   ]
  },
  {
   "cell_type": "code",
   "execution_count": null,
   "id": "02e6a36a-3b50-4a25-a23e-60752598d80c",
   "metadata": {},
   "outputs": [],
   "source": []
  },
  {
   "cell_type": "markdown",
   "id": "a3c0a49a-6733-4fc1-a38c-ec644d107a6f",
   "metadata": {},
   "source": [
    "### **Project by : SIREESHA RAGIPATI**"
   ]
  }
 ],
 "metadata": {
  "kernelspec": {
   "display_name": "Python 3 (ipykernel)",
   "language": "python",
   "name": "python3"
  },
  "language_info": {
   "codemirror_mode": {
    "name": "ipython",
    "version": 3
   },
   "file_extension": ".py",
   "mimetype": "text/x-python",
   "name": "python",
   "nbconvert_exporter": "python",
   "pygments_lexer": "ipython3",
   "version": "3.11.7"
  }
 },
 "nbformat": 4,
 "nbformat_minor": 5
}
