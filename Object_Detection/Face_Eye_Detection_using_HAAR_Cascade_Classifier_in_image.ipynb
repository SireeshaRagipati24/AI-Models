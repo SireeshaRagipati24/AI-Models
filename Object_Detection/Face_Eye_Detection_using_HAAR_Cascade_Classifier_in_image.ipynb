{
 "cells": [
  {
   "cell_type": "markdown",
   "id": "f560e84d-1f43-486e-a9b7-392624fe380b",
   "metadata": {},
   "source": [
    "## **Face & Eye Detection using HAAR Cascade Classifier in a image**\n",
    "This project detects **faces and eyes** in an image using **OpenCV's HAAR Cascade Classifier**.\n",
    "\n",
    "---\n",
    "\n",
    "### **How It Works**\n",
    "- Load **pre-trained HAAR Cascade models** for face and eye detection.  \n",
    "- Convert the image to **graymscale** for better detection performance.  \n",
    "-  Detect **faces** first using `detectMultiScale()`.  \n",
    "-  If a face is found, detect **eyes** within the face region.  \n",
    "- Draw **rectangles** around detected faces (🔵 Blue) and eyes (🟢 Green).  \n",
    "\n",
    "---\n",
    "\n",
    "### **Understanding Parameters in `detectMultiScale()`**\n",
    "| **Parameter**       | **Description**  |\n",
    "|-----------------|------------------------------------------------|\n",
    "| `gray`         | Input image (grayscale) |\n",
    "| `1.3` (Scale Factor) | Reduces image size by **30%** at each step to detect faces at different scales |\n",
    "| `5` (Min Neighbors) | Higher value = **stricter detection** (fewer false positives) |\n",
    "\n",
    "---\n"
   ]
  },
  {
   "cell_type": "code",
   "execution_count": 6,
   "id": "ea1dfe81-092e-4e2d-a66a-4e8bdaeb5197",
   "metadata": {},
   "outputs": [],
   "source": [
    "import cv2\n",
    "face_classifier=cv2.CascadeClassifier(\"haarcascade_frontalface_default.xml\")\n",
    "eye_classifier=cv2.CascadeClassifier(\"haarcascade_eye.xml\")\n",
    "\n",
    "image=cv2.imread(\"Modi.jpg\")\n",
    "resized_image=cv2.resize(image,(500,500))\n",
    "gray=cv2.cvtColor(resized_image,cv2.COLOR_BGR2GRAY)\n",
    "\n",
    "faces=face_classifier.detectMultiScale(gray,1.3,5)\n",
    "\n",
    "if len(faces) == 0:\n",
    "    print(\"No faces found\")\n",
    "for (x,y,w,h) in faces:\n",
    "    cv2.rectangle(resized_image,(x,y),(x+w,y+h),(255,0,0),2)\n",
    "    roi_gray=gray[y:y+h,x:x+w]\n",
    "    roi_color=resized_image[y:y+h,x:x+w]\n",
    "    eyes=eye_classifier.detectMultiScale(roi_gray)\n",
    "    for (ex,ey,ew,eh) in eyes:\n",
    "        cv2.rectangle(roi_color,(ex,ey),(ex+ew,ey+eh),(0,255,0),2)\n",
    "        \n",
    "\n",
    "\n",
    "cv2.imshow('eye & face',resized_image)\n",
    "cv2.waitKey(0)          \n",
    "cv2.destroyAllWindows()"
   ]
  },
  {
   "cell_type": "markdown",
   "id": "b5aaf1c8-1090-4e78-918f-13209ea22c87",
   "metadata": {},
   "source": [
    "## **Final Conclusions**\n",
    "- **HAAR Cascade Classifier** enables quick face & eye detection.  \n",
    "- Works well for **frontal face images**, but **may struggle** with different angles.  \n",
    "- **Grayscale conversion** enhances detection speed and accuracy.  \n",
    "- The **nested detection** method ensures eyes are only searched **inside detected faces**.  \n",
    "\n",
    "**Next Steps:**  \n",
    "- Test on **multiple faces** to see how it performs in group photos.  \n",
    "- Apply this to **real-time webcam feeds** for live face & eye tracking.  \n",
    "- Experiment with **deep learning models (like MTCNN)** for improved accuracy.  "
   ]
  },
  {
   "cell_type": "code",
   "execution_count": null,
   "id": "2d06861a-5a53-446f-87e4-48b2187b2831",
   "metadata": {},
   "outputs": [],
   "source": []
  },
  {
   "cell_type": "markdown",
   "id": "203bb148-acb4-4285-9e55-4c23bacadd5a",
   "metadata": {},
   "source": [
    "### **Project by : SIREESHA RAGIPATI**"
   ]
  },
  {
   "cell_type": "code",
   "execution_count": null,
   "id": "07424fd9-7615-42f1-95c9-c98747a8b32e",
   "metadata": {},
   "outputs": [],
   "source": []
  }
 ],
 "metadata": {
  "kernelspec": {
   "display_name": "Python 3 (ipykernel)",
   "language": "python",
   "name": "python3"
  },
  "language_info": {
   "codemirror_mode": {
    "name": "ipython",
    "version": 3
   },
   "file_extension": ".py",
   "mimetype": "text/x-python",
   "name": "python",
   "nbconvert_exporter": "python",
   "pygments_lexer": "ipython3",
   "version": "3.11.7"
  }
 },
 "nbformat": 4,
 "nbformat_minor": 5
}
