{
 "cells": [
  {
   "cell_type": "code",
   "execution_count": 1,
   "id": "b8517d43-66b8-4b24-a9bb-e30a6deeb26e",
   "metadata": {},
   "outputs": [],
   "source": [
    "#pip install opencv-python"
   ]
  },
  {
   "cell_type": "markdown",
   "id": "be6dda48-519b-4739-91cc-e287804c9a45",
   "metadata": {},
   "source": [
    "# **OpenCV Image Processing in Python**\n",
    "## Overview  \n",
    "This notebook demonstrates fundamental **image processing** techniques using **OpenCV**.  \n",
    "It covers **loading, displaying, resizing, converting, and saving images** with practical explanations.\n",
    "\n",
    "---\n",
    "\n",
    "##  **What is OpenCV?**\n",
    "OpenCV (**Open Source Computer Vision Library**) is a powerful library used for **image processing, computer vision, and machine learning** tasks.  \n",
    "\n",
    " **Why use OpenCV?**  \n",
    "-  Efficient image processing  \n",
    "-  Works with multiple file formats  \n",
    "-  Supports various transformations like resizing, grayscale conversion, and filtering  \n",
    "\n",
    "---\n",
    "\n",
    "## ** Reading and Displaying an Image**  \n",
    "### **What Happens?**\n",
    "- The image is loaded into Python memory as a **multi-dimensional array**.\n",
    "- It is displayed in a separate OpenCV window.\n",
    "- `cv2.waitKey(2000)` holds the image for **2 seconds** before closing.\n",
    "\n",
    "### **Why is `cv2.waitKey()` Important?**\n",
    "- If omitted, the image will **flash and disappear instantly**.\n",
    "- If no argument (`cv2.waitKey()`), the window remains **open indefinitely**.\n",
    "\n",
    "---\n",
    "\n",
    "## **Saving an Image**\n",
    "### **What Happens?**\n",
    "- The current image is saved to disk using **JPEG format**.\n",
    "- OpenCV automatically **compresses the image** when saving.\n",
    "\n",
    "### **Why Save Images?**\n",
    "-  To preserve processed images  \n",
    "-  For further analysis (e.g., AI/ML model training)  \n",
    "-  To apply filters and transformations later  \n",
    "\n",
    "---\n",
    "\n",
    "## **Resizing an Image**\n",
    "### **What Happens?**\n",
    "- The image is resized to **500×500 pixels**.\n",
    "- The aspect ratio is **not preserved**, meaning it may look stretched.\n",
    "\n",
    "### **Why Resize?**\n",
    "- Reduces file size  \n",
    "- Faster processing in ML models  \n",
    "- Standardizes image dimensions for computer vision tasks  \n",
    "\n",
    "**Alternative:** Maintain aspect ratio by setting **one dimension** and letting OpenCV adjust the other.\n",
    "\n",
    "---\n",
    "\n",
    "## **Converting to Grayscale**\n",
    "### **What Happens?**\n",
    "- OpenCV removes color channels (RGB) and keeps **intensity values**.\n",
    "- This simplifies the image to **one channel** (shades of gray).\n",
    "\n",
    "### **Why Convert to Grayscale?**\n",
    "- Reduces complexity  \n",
    "- Speeds up processing  \n",
    "- Essential for edge detection and pattern recognition  \n",
    "\n",
    "**Example Usage:**  \n",
    "- Face detection  \n",
    "- Object recognition  \n",
    "- Image segmentation  \n",
    "\n",
    "---\n",
    "\n",
    "## **Understanding Image Dimensions**\n",
    "### **What Happens?**\n",
    "- `img.shape[0]`: Gets the **height** of the image.\n",
    "- `img.shape[1]`: Gets the **width** of the image.\n",
    "- Multiplying by `0.5` calculates **half the size**.\n",
    "\n",
    "### **Why Do We Need Image Dimensions?**\n",
    "- Helps in resizing  \n",
    "- Useful for cropping and transformations  \n",
    "- Needed for AI models that expect fixed input sizes  \n",
    "\n",
    "---\n",
    "\n",
    "## **Summary of Concepts**\n",
    "| Feature             | What Happens?  | Why is it Useful?  |\n",
    "|--------------------|---------------|-------------------|\n",
    "| **Read Image**      | Loads an image into memory | Enables processing |\n",
    "| **Display Image**   | Opens a window to show the image | Visual verification |\n",
    "| **Save Image**      | Saves image as a new file | Stores processed results |\n",
    "| **Resize Image**    | Changes image dimensions | Optimizes performance |\n",
    "| **Grayscale Conversion** | Removes color, keeps intensity values | Simplifies processing |\n",
    "| **Image Shape**     | Retrieves width & height | Useful for transformations |\n",
    "\n",
    "---\n",
    "\n",
    "## **Final Thoughts**\n",
    "- **OpenCV is powerful!** Even with basic operations, it enables **complex applications**.\n",
    "- **Practical Use Cases:**\n",
    "  - Object & face detection  \n",
    "  - Image classification  \n",
    "  - Feature extraction  \n"
   ]
  },
  {
   "cell_type": "markdown",
   "id": "aae59d4e-b22b-4a5c-b585-1685bce43f06",
   "metadata": {},
   "source": [
    "## **Import Required Libraries**"
   ]
  },
  {
   "cell_type": "code",
   "execution_count": 11,
   "id": "60b760d1-f3ad-4514-b9d4-a80c62ef01d3",
   "metadata": {},
   "outputs": [],
   "source": [
    "import cv2\n",
    "import numpy as np"
   ]
  },
  {
   "cell_type": "markdown",
   "id": "0c14f243-e695-4564-904c-04f15f5b7360",
   "metadata": {},
   "source": [
    "**Read and Display the Image**"
   ]
  },
  {
   "cell_type": "code",
   "execution_count": 12,
   "id": "12065032-0c21-4a17-96e8-c37ff84be2b7",
   "metadata": {},
   "outputs": [],
   "source": [
    "img=cv2.imread(\"Modi.jpg\",1)"
   ]
  },
  {
   "cell_type": "code",
   "execution_count": 13,
   "id": "bf8194e3-6b02-465f-84fe-167d3f9d3cc6",
   "metadata": {},
   "outputs": [],
   "source": [
    "# print(img)        # matrix 3D - this is how images are stored "
   ]
  },
  {
   "cell_type": "code",
   "execution_count": 14,
   "id": "e7930302-ab81-4452-96ec-487980f8639f",
   "metadata": {},
   "outputs": [
    {
     "data": {
      "text/plain": [
       "(1358, 1500, 3)"
      ]
     },
     "execution_count": 14,
     "metadata": {},
     "output_type": "execute_result"
    }
   ],
   "source": [
    "img.shape"
   ]
  },
  {
   "cell_type": "markdown",
   "id": "403bfe95-17e6-4985-8dac-c065f5487e95",
   "metadata": {},
   "source": [
    "- shape gives the dimensions of the image array \n",
    "- The 3D are in 1358 pixels in height * 1500 pixels wide\n",
    "- 3 means that there are 3 components (RGB) that make up this image"
   ]
  },
  {
   "cell_type": "markdown",
   "id": "6a82c133-610d-4c21-987e-3c003c82beb5",
   "metadata": {},
   "source": [
    "## **Display the image**"
   ]
  },
  {
   "cell_type": "markdown",
   "id": "5219fa10-23a2-44e3-94b1-9027e2710142",
   "metadata": {},
   "source": [
    "- The first parameter will be title shown on image window\n",
    "- The second parameter is teh image variable"
   ]
  },
  {
   "cell_type": "markdown",
   "id": "d2f8879c-4ab8-4676-ac35-4381a39aeb17",
   "metadata": {},
   "source": [
    "- By leaving wait key blank, it just waits for anykey to be pressed before continuing\n",
    "- By placing number ( expect 0), we can specify a delay for how long you keep window open (time is in  milliseconds here )"
   ]
  },
  {
   "cell_type": "markdown",
   "id": "69a1a709-71a2-4e88-a6e7-6694cf60f7bb",
   "metadata": {},
   "source": [
    "- destroy all window is used to close all open windows\n",
    "- Failure to place this will cause your programe to hang"
   ]
  },
  {
   "cell_type": "code",
   "execution_count": 15,
   "id": "1bb32c30-8c65-49fa-902d-6b0433f67070",
   "metadata": {},
   "outputs": [],
   "source": [
    "cv2.imshow('prime minister',img)\n",
    "cv2.waitKey(2000)           # if nothing in waitKey , runs for infinite times\n",
    "cv2.destroyAllWindows()"
   ]
  },
  {
   "cell_type": "markdown",
   "id": "28885f1e-0a63-41c0-946f-20cdbf4e0e08",
   "metadata": {},
   "source": [
    "## **Save the image**"
   ]
  },
  {
   "cell_type": "markdown",
   "id": "03f8d5cc-b195-4867-99f3-1dee6d35a234",
   "metadata": {},
   "source": [
    "imwrite specifing the file name and the image to be saved"
   ]
  },
  {
   "cell_type": "code",
   "execution_count": 16,
   "id": "8c9f6dab-d85a-4c02-9b95-3e041fea0685",
   "metadata": {},
   "outputs": [
    {
     "data": {
      "text/plain": [
       "True"
      ]
     },
     "execution_count": 16,
     "metadata": {},
     "output_type": "execute_result"
    }
   ],
   "source": [
    "cv2.imwrite(\"saving_modi.jpg\",img)"
   ]
  },
  {
   "cell_type": "markdown",
   "id": "1f11b9d9-92ca-4cb2-a623-30bfd2efda49",
   "metadata": {},
   "source": [
    "## **Resize the image**"
   ]
  },
  {
   "cell_type": "code",
   "execution_count": 17,
   "id": "30abe398-3eef-4147-be4f-c16e0e293a23",
   "metadata": {},
   "outputs": [],
   "source": [
    "img=cv2.imread(\"Modi.jpg\")\n",
    "resized_img=cv2.resize(img,(500,500))\n"
   ]
  },
  {
   "cell_type": "markdown",
   "id": "cf5f3255-5b10-4cbc-82dc-9816cbd3b855",
   "metadata": {},
   "source": [
    "## **Convert to Grayscale and Display**"
   ]
  },
  {
   "cell_type": "code",
   "execution_count": null,
   "id": "b9013615-ff9d-4f89-b727-2f57c56646e9",
   "metadata": {},
   "outputs": [],
   "source": [
    "gray=cv2.cvtColor(resized_img,cv2.COLOR_BGR2GRAY)\n",
    "cv2.imshow('modi image',gray)\n",
    "cv2.waitKey()          \n",
    "cv2.destroyAllWindows()"
   ]
  },
  {
   "cell_type": "markdown",
   "id": "86d4636b-9cf8-41a7-a48f-30b21a45314f",
   "metadata": {},
   "source": [
    "## **Image Dimensions**"
   ]
  },
  {
   "cell_type": "code",
   "execution_count": 20,
   "id": "dd519595-6c99-4779-9882-28c77e3a3830",
   "metadata": {},
   "outputs": [
    {
     "data": {
      "text/plain": [
       "array([[[255, 255, 255],\n",
       "        [255, 255, 255],\n",
       "        [255, 255, 255],\n",
       "        ...,\n",
       "        [255, 255, 255],\n",
       "        [255, 255, 255],\n",
       "        [255, 255, 255]],\n",
       "\n",
       "       [[255, 255, 255],\n",
       "        [255, 255, 255],\n",
       "        [255, 255, 255],\n",
       "        ...,\n",
       "        [255, 255, 255],\n",
       "        [255, 255, 255],\n",
       "        [255, 255, 255]],\n",
       "\n",
       "       [[255, 255, 255],\n",
       "        [255, 255, 255],\n",
       "        [255, 255, 255],\n",
       "        ...,\n",
       "        [255, 255, 255],\n",
       "        [255, 255, 255],\n",
       "        [255, 255, 255]],\n",
       "\n",
       "       ...,\n",
       "\n",
       "       [[255, 255, 255],\n",
       "        [255, 255, 255],\n",
       "        [255, 255, 255],\n",
       "        ...,\n",
       "        [255, 255, 255],\n",
       "        [255, 255, 255],\n",
       "        [255, 255, 255]],\n",
       "\n",
       "       [[255, 255, 255],\n",
       "        [255, 255, 255],\n",
       "        [255, 255, 255],\n",
       "        ...,\n",
       "        [255, 255, 255],\n",
       "        [255, 255, 255],\n",
       "        [255, 255, 255]],\n",
       "\n",
       "       [[255, 255, 255],\n",
       "        [255, 255, 255],\n",
       "        [255, 255, 255],\n",
       "        ...,\n",
       "        [255, 255, 255],\n",
       "        [255, 255, 255],\n",
       "        [255, 255, 255]]], dtype=uint8)"
      ]
     },
     "execution_count": 20,
     "metadata": {},
     "output_type": "execute_result"
    }
   ],
   "source": [
    "new_height = int(img.shape[0] * 0.5)\n",
    "new_width = int(img.shape[1] * 0.5)\n",
    "resized_img = cv2.resize(img, (new_width, new_height))\n",
    "img"
   ]
  },
  {
   "cell_type": "code",
   "execution_count": 9,
   "id": "b8339eab-6e27-487c-9ab2-ec0d7fa39690",
   "metadata": {},
   "outputs": [
    {
     "data": {
      "text/plain": [
       "679.0"
      ]
     },
     "execution_count": 9,
     "metadata": {},
     "output_type": "execute_result"
    }
   ],
   "source": [
    "img.shape[0]*0.5"
   ]
  },
  {
   "cell_type": "code",
   "execution_count": 10,
   "id": "d2f3923d-1420-49f4-a801-c96a9fc26761",
   "metadata": {},
   "outputs": [
    {
     "data": {
      "text/plain": [
       "750.0"
      ]
     },
     "execution_count": 10,
     "metadata": {},
     "output_type": "execute_result"
    }
   ],
   "source": [
    "img.shape[1]*0.5"
   ]
  },
  {
   "cell_type": "code",
   "execution_count": null,
   "id": "19c5b34a-e211-41d0-b70f-d52bbda77fcf",
   "metadata": {},
   "outputs": [],
   "source": []
  },
  {
   "cell_type": "markdown",
   "id": "27393d9a-f3d4-422a-8083-6e3b9790d600",
   "metadata": {},
   "source": [
    "### **Project by : SIREESHA RAGIPATI**"
   ]
  },
  {
   "cell_type": "code",
   "execution_count": null,
   "id": "a7392c0c-e2b2-4c25-9d00-77f94b412aed",
   "metadata": {},
   "outputs": [],
   "source": []
  },
  {
   "cell_type": "code",
   "execution_count": null,
   "id": "69d6ccd3-330f-4436-8da5-614bd4897531",
   "metadata": {},
   "outputs": [],
   "source": []
  }
 ],
 "metadata": {
  "kernelspec": {
   "display_name": "Python 3 (ipykernel)",
   "language": "python",
   "name": "python3"
  },
  "language_info": {
   "codemirror_mode": {
    "name": "ipython",
    "version": 3
   },
   "file_extension": ".py",
   "mimetype": "text/x-python",
   "name": "python",
   "nbconvert_exporter": "python",
   "pygments_lexer": "ipython3",
   "version": "3.11.7"
  }
 },
 "nbformat": 4,
 "nbformat_minor": 5
}
